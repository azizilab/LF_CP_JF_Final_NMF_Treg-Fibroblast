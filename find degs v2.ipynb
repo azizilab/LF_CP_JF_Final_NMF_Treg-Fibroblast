{
 "cells": [
  {
   "cell_type": "code",
   "execution_count": null,
   "metadata": {},
   "outputs": [],
   "source": [
    "data2=adata.to_df()"
   ]
  },
  {
   "cell_type": "code",
   "execution_count": null,
   "metadata": {},
   "outputs": [],
   "source": [
    "from numpy.random import default_rng\n",
    "rng = default_rng()\n",
    "\n",
    "#create array of in cluster vs out of cluster gene data, use clustersizes to track which cluster bc 3d arrays are hard\n",
    "clustersizes=[]\n",
    "#for each cluster, find highest DEGs between that cluster and all the other clusters\n",
    "for i in range(10):\n",
    "    cluster = get_cluster(adata, np.asarray(data2), i)\n",
    "    anticluster = get_anticluster(adata, np.asarray(data2), i)\n",
    "    downsample = rng.choice(anticluster, size=cluster.shape[0], replace=False) #don't think this is necessary for ttest but included it for ease \n",
    "    \n",
    "    clustersizes.append(cluster.shape[0])\n",
    "    if i==0:\n",
    "        clusters = cluster\n",
    "        anticlusters = downsample\n",
    "    else:\n",
    "        clusters = np.append(clusters, cluster, axis=0)\n",
    "        anticlusters = np.append(anticlusters, downsample, axis=0)"
   ]
  },
  {
   "cell_type": "code",
   "execution_count": null,
   "metadata": {},
   "outputs": [],
   "source": [
    "clusters = np.transpose(np.asarray(clusters))\n",
    "clusters.shape\n",
    "anticlusters = np.transpose(np.asarray(anticlusters))\n",
    "anticlusters.shape"
   ]
  },
  {
   "cell_type": "code",
   "execution_count": null,
   "metadata": {},
   "outputs": [],
   "source": [
    "#for each cluster, compute a ttest for expression of genes in cluster vs out of cluster\n",
    "import scipy\n",
    "for n in range(len(clustersizes)):\n",
    "    pval=[]\n",
    "    start = int(np.sum(clustersizes[0:n]))\n",
    "    end = int(np.sum(clustersizes[0:(n+1)]))\n",
    "    for i in range(clusters.shape[0]):\n",
    "        pval.append(scipy.stats.ttest_ind(clusters[i][start:end],anticlusters[i][start:end])[1])\n",
    "    if n==0: pvals = [pval]\n",
    "    else: pvals = np.append(pvals, [pval],axis=0)"
   ]
  },
  {
   "cell_type": "code",
   "execution_count": null,
   "metadata": {},
   "outputs": [],
   "source": [
    "#take top 500 DEGs for each cluster and append to list to create full list of genes to do nmf on\n",
    "for i in range(pvals.shape[0]):\n",
    "    if i==0: \n",
    "        degind=[min_p(pvals[0],500)]\n",
    "    else: \n",
    "        degind=np.append(degind, [min_p(pvals[i],500)],axis=0)"
   ]
  },
  {
   "cell_type": "code",
   "execution_count": null,
   "metadata": {},
   "outputs": [],
   "source": [
    "allgenes=degind.flatten()"
   ]
  },
  {
   "cell_type": "code",
   "execution_count": null,
   "metadata": {},
   "outputs": [],
   "source": [
    "#limit count matrix to DEGs (UNNORMALIZED)\n",
    "data_np=np.asarray(data2)\n",
    "reduced = []\n",
    "reduced_genes = []\n",
    "for i in range(data.shape[1]):\n",
    "    if i in allgenes:\n",
    "        reduced.append(data_np[:,i])\n",
    "        reduced_genes.append(genes[i])\n",
    "reduced=np.transpose(np.asarray(reduced))"
   ]
  },
  {
   "cell_type": "code",
   "execution_count": null,
   "metadata": {},
   "outputs": [],
   "source": [
    "#THIS IS WHAT THE MODEL IS RUN ON\n",
    "red=pd.DataFrame(reduced, columns=reduced_genes)\n",
    "\n",
    "n_components = 10\n",
    "H10,W10,W_norm10 = nmf_function(n_components,'nndsvd',1,red)"
   ]
  },
  {
   "cell_type": "code",
   "execution_count": null,
   "metadata": {},
   "outputs": [],
   "source": [
    "def min_p(pvals,n):\n",
    "    degind=[] #indices of most differentially expressed genes (lowest p values), in order\n",
    "\n",
    "    minindex=-1\n",
    "    #initialize minindex to an index that isn't nan\n",
    "    for i in range(len(pvals)):\n",
    "        if np.isnan(pvals[i])==False:\n",
    "            minindex=i\n",
    "            break\n",
    "    if minindex==-1:\n",
    "        return []\n",
    "    \n",
    "    #take top n DEGs\n",
    "    for j in range(n):\n",
    "        for i in range(len(pvals)):\n",
    "            if (pvals[i]<pvals[minindex]):\n",
    "                if (np.isnan(pvals[i])==False):\n",
    "                    minindex=i\n",
    "        degind.append(minindex)\n",
    "        pvals[minindex]=100\n",
    "    return degind"
   ]
  },
  {
   "cell_type": "code",
   "execution_count": null,
   "metadata": {},
   "outputs": [],
   "source": [
    "def get_cluster(adata, factorized, n):\n",
    "#only look at one cluster\n",
    "    cluster1=[]\n",
    "    for i in range(adata.obs[\"clusters\"].shape[0]):\n",
    "        if adata.obs[\"clusters\"][i]==str(n):\n",
    "            cluster1.append(factorized[i])\n",
    "    return np.asarray(cluster1)"
   ]
  },
  {
   "cell_type": "code",
   "execution_count": null,
   "metadata": {},
   "outputs": [],
   "source": [
    "def get_anticluster(adata, factorized, n):\n",
    "#look at everything not in the cluster\n",
    "    cluster1=[]\n",
    "    for i in range(adata.obs[\"clusters\"].shape[0]):\n",
    "        if adata.obs[\"clusters\"][i]!=str(n):\n",
    "            cluster1.append(factorized[i])\n",
    "    return np.asarray(cluster1)"
   ]
  },
  {
   "cell_type": "code",
   "execution_count": null,
   "metadata": {},
   "outputs": [],
   "source": []
  },
  {
   "cell_type": "code",
   "execution_count": null,
   "metadata": {},
   "outputs": [],
   "source": []
  }
 ],
 "metadata": {
  "kernelspec": {
   "display_name": "labenv",
   "language": "python",
   "name": "labenv"
  },
  "language_info": {
   "codemirror_mode": {
    "name": "ipython",
    "version": 3
   },
   "file_extension": ".py",
   "mimetype": "text/x-python",
   "name": "python",
   "nbconvert_exporter": "python",
   "pygments_lexer": "ipython3",
   "version": "3.6.4"
  }
 },
 "nbformat": 4,
 "nbformat_minor": 4
}
